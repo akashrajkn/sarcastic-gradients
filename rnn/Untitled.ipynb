{
 "cells": [
  {
   "cell_type": "code",
   "execution_count": 4,
   "metadata": {},
   "outputs": [],
   "source": [
    "import csv\n",
    "import pickle\n",
    "import torch\n",
    "import torch.nn as nn\n",
    "from torch.utils.data import DataLoader\n",
    "\n",
    "\n",
    "import matplotlib.pyplot as plt\n",
    "import numpy as np\n",
    "import os\n",
    "import pickle"
   ]
  },
  {
   "cell_type": "code",
   "execution_count": 7,
   "metadata": {},
   "outputs": [],
   "source": [
    "with open('./part3/results/losses-grimms', 'rb') as f:\n",
    "    losses = pickle.load(f)\n",
    "    \n",
    "with open('./part3/results/accuracies-grimms', 'rb') as f:\n",
    "    accuracies = pickle.load(f)"
   ]
  },
  {
   "cell_type": "code",
   "execution_count": 9,
   "metadata": {},
   "outputs": [
    {
     "data": {
      "text/plain": [
       "[<matplotlib.lines.Line2D at 0x7f4f981a5c88>]"
      ]
     },
     "execution_count": 9,
     "metadata": {},
     "output_type": "execute_result"
    },
    {
     "data": {
      "image/png": "[encoded data removed]",
      "text/plain": [
       "<Figure size 432x288 with 1 Axes>"
      ]
     },
     "metadata": {},
     "output_type": "display_data"
    }
   ],
   "source": [
    "plt.plot(losses)"
   ]
  },
  {
   "cell_type": "code",
   "execution_count": 10,
   "metadata": {},
   "outputs": [
    {
     "data": {
      "text/plain": [
       "[<matplotlib.lines.Line2D at 0x7f4f97f9a550>]"
      ]
     },
     "execution_count": 10,
     "metadata": {},
     "output_type": "execute_result"
    },
    {
     "data": {
      "image/png": "[encoded data removed]",
      "text/plain": [
       "<Figure size 432x288 with 1 Axes>"
      ]
     },
     "metadata": {},
     "output_type": "display_data"
    }
   ],
   "source": [
    "plt.plot(accuracies, color='orange')"
   ]
  },
  {
   "cell_type": "code",
   "execution_count": null,
   "metadata": {},
   "outputs": [],
   "source": [
    "# Prepare dataset\n",
    "\n",
    "final_text = ''\n",
    "line_count = 0\n",
    "\n",
    "with open('./part3/assets/scripts.csv', mode='r') as csv_file:\n",
    "    csv_reader = csv.DictReader(csv_file, delimiter=',')\n",
    "    for row in csv_reader:\n",
    "        if line_count == 0:\n",
    "            print(f'Column names are {\", \".join(row)}')\n",
    "            line_count += 1\n",
    "        \n",
    "        sentence = '{}: {}\\n'.format(row['Character'], row['Dialogue'])\n",
    "        final_text += sentence\n",
    "\n",
    "        line_count += 1\n",
    "    print(f'Processed {line_count} lines.')\n",
    "    \n",
    "with open('./part3/assets/seinfeld.txt', 'w+') as f:\n",
    "    f.write(final_text)"
   ]
  },
  {
   "cell_type": "code",
   "execution_count": 2,
   "metadata": {},
   "outputs": [
    {
     "name": "stdout",
     "output_type": "stream",
     "text": [
      "Initialize dataset with 3362231 characters, 97 unique.\n",
      "{'1': 0, 'M': 1, '\\n': 2, 'H': 3, '`': 4, '(': 5, '%': 6, '8': 7, 'w': 8, 'q': 9, '\"': 10, 'C': 11, '-': 12, '\\x93': 13, '$': 14, 'B': 15, 'X': 16, '[': 17, 'Y': 18, '~': 19, 'F': 20, 'R': 21, 'A': 22, 'n': 23, 'a': 24, 'x': 25, \"'\": 26, '7': 27, 'E': 28, 'd': 29, 'L': 30, '>': 31, '#': 32, '9': 33, '4': 34, ':': 35, ' ': 36, 'o': 37, '6': 38, 'u': 39, 'Z': 40, '=': 41, 'I': 42, '&': 43, 'W': 44, '\\x91': 45, ']': 46, 'N': 47, 'h': 48, 'T': 49, '_': 50, '\\x94': 51, ',': 52, 'j': 53, 'k': 54, '3': 55, '{': 56, 'G': 57, 'g': 58, 'O': 59, '2': 60, '5': 61, 'l': 62, 'y': 63, '?': 64, '}': 65, '<': 66, 'S': 67, 'V': 68, 'e': 69, 'J': 70, 'b': 71, 'z': 72, ';': 73, 't': 74, '\\x92': 75, '*': 76, 'c': 77, 'p': 78, '.': 79, 'Q': 80, 'v': 81, '!': 82, '+': 83, 'm': 84, 'U': 85, '\\\\': 86, '/': 87, 'P': 88, 'K': 89, 'f': 90, 'i': 91, ')': 92, 'r': 93, '0': 94, 's': 95, 'D': 96}\n"
     ]
    }
   ],
   "source": [
    "from part3.dataset import *\n",
    "\n",
    "\n",
    "dataset = TextDataset('./part3/assets/seinfeld.txt', seq_length=30)\n",
    "data_loader = DataLoader(dataset, 5, num_workers=1)\n",
    "\n",
    "# print(dataset.char_dict)\n",
    "\n",
    "\n",
    "\n",
    "# for step, (batch_inputs, batch_targets) in enumerate(data_loader):\n",
    "#     print(len(batch_inputs))\n",
    "#     print(len(batch_targets))\n",
    "#     break\n"
   ]
  },
  {
   "cell_type": "code",
   "execution_count": null,
   "metadata": {},
   "outputs": [],
   "source": [
    "seq_length  = 3\n",
    "input_dim   = 2\n",
    "num_hidden  = 5\n",
    "num_classes = 4\n",
    "batch_size  = 10"
   ]
  },
  {
   "cell_type": "code",
   "execution_count": null,
   "metadata": {},
   "outputs": [],
   "source": [
    "W_hx = nn.Parameter(nn.init.xavier_uniform_(torch.empty(num_hidden,  input_dim)))\n",
    "W_hh = nn.Parameter(nn.init.xavier_uniform_(torch.empty(num_hidden,  num_hidden)))\n",
    "W_ph = nn.Parameter(nn.init.xavier_uniform_(torch.empty(num_classes, num_hidden)))\n",
    "b_h  = nn.Parameter(torch.ones(num_hidden))\n",
    "b_p  = nn.Parameter(torch.ones(num_classes))"
   ]
  },
  {
   "cell_type": "code",
   "execution_count": null,
   "metadata": {},
   "outputs": [],
   "source": [
    "x = torch.ones(input_dim)\n",
    "h_t = torch.zeros(num_hidden)\n",
    "p_t = torch.zeros(num_classes)\n",
    "tanh = nn.Tanh()\n",
    "\n",
    "\n",
    "h_t = tanh(torch.matmul(W_hx, x) + torch.matmul(W_hh, h_t) + b_h)\n",
    "p_t = torch.matmul(W_ph, h_t) + b_p\n",
    "\n",
    "print(p_t)"
   ]
  },
  {
   "cell_type": "code",
   "execution_count": null,
   "metadata": {},
   "outputs": [],
   "source": [
    "a = torch.ones((128, 10))\n",
    "b = torch.ones(10)"
   ]
  },
  {
   "cell_type": "code",
   "execution_count": null,
   "metadata": {},
   "outputs": [],
   "source": [
    "a + b"
   ]
  },
  {
   "cell_type": "code",
   "execution_count": null,
   "metadata": {},
   "outputs": [],
   "source": [
    "loss = nn.CrossEntropyLoss()\n",
    "input = torch.randn(3, 5, requires_grad=True)\n",
    "target = torch.empty(3, dtype=torch.long).random_(5)\n",
    "output = loss(input, target)\n",
    "output.backward()"
   ]
  },
  {
   "cell_type": "code",
   "execution_count": null,
   "metadata": {},
   "outputs": [],
   "source": [
    "print(input.shape, target.shape)"
   ]
  },
  {
   "cell_type": "code",
   "execution_count": null,
   "metadata": {},
   "outputs": [],
   "source": []
  }
 ],
 "metadata": {
  "kernelspec": {
   "display_name": "Python 3",
   "language": "python",
   "name": "python3"
  },
  "language_info": {
   "codemirror_mode": {
    "name": "ipython",
    "version": 3
   },
   "file_extension": ".py",
   "mimetype": "text/x-python",
   "name": "python",
   "nbconvert_exporter": "python",
   "pygments_lexer": "ipython3",
   "version": "3.6.4"
  }
 },
 "nbformat": 4,
 "nbformat_minor": 2
}
